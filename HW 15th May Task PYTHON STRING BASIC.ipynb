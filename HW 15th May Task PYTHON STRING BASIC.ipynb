{
 "cells": [
  {
   "cell_type": "markdown",
   "id": "e81aca3d",
   "metadata": {},
   "source": [
    "# PYTHON STRING BASIC TASK SS"
   ]
  },
  {
   "cell_type": "code",
   "execution_count": 1,
   "id": "cad61a5a",
   "metadata": {},
   "outputs": [],
   "source": [
    "s = \"this is My First Python programming class and i am learNING python string and its function\"\n",
    "\n"
   ]
  },
  {
   "cell_type": "markdown",
   "id": "899f8ebd",
   "metadata": {},
   "source": [
    "QUES 1: Try to extract data from index one to index 300 with a jump of 3 "
   ]
  },
  {
   "cell_type": "code",
   "execution_count": 2,
   "id": "e2fc5b28",
   "metadata": {},
   "outputs": [
    {
     "data": {
      "text/plain": [
       "'tssyityopgmncsa alrNph rgni ni'"
      ]
     },
     "execution_count": 2,
     "metadata": {},
     "output_type": "execute_result"
    }
   ],
   "source": [
    "s[0:300:3]"
   ]
  },
  {
   "cell_type": "markdown",
   "id": "7551c889",
   "metadata": {},
   "source": [
    "QUES 2: Try to reverse a string without using reverse function "
   ]
  },
  {
   "cell_type": "code",
   "execution_count": 3,
   "id": "4634304b",
   "metadata": {},
   "outputs": [
    {
     "data": {
      "text/plain": [
       "'noitcnuf sti dna gnirts nohtyp GNINrael ma i dna ssalc gnimmargorp nohtyP tsriF yM si siht'"
      ]
     },
     "execution_count": 3,
     "metadata": {},
     "output_type": "execute_result"
    }
   ],
   "source": [
    "s[::-1]"
   ]
  },
  {
   "cell_type": "markdown",
   "id": "9615cd2a",
   "metadata": {},
   "source": [
    "QUES 3: Try to split a string after conversion of entire string in uppercase"
   ]
  },
  {
   "cell_type": "code",
   "execution_count": 4,
   "id": "270fc38a",
   "metadata": {},
   "outputs": [
    {
     "data": {
      "text/plain": [
       "['THIS',\n",
       " 'IS',\n",
       " 'MY',\n",
       " 'FIRST',\n",
       " 'PYTHON',\n",
       " 'PROGRAMMING',\n",
       " 'CLASS',\n",
       " 'AND',\n",
       " 'I',\n",
       " 'AM',\n",
       " 'LEARNING',\n",
       " 'PYTHON',\n",
       " 'STRING',\n",
       " 'AND',\n",
       " 'ITS',\n",
       " 'FUNCTION']"
      ]
     },
     "execution_count": 4,
     "metadata": {},
     "output_type": "execute_result"
    }
   ],
   "source": [
    "m = s.upper()\n",
    "m.split()"
   ]
  },
  {
   "cell_type": "markdown",
   "id": "21fa9ae7",
   "metadata": {},
   "source": [
    "QUES 4: try to convert the whole string into lower case"
   ]
  },
  {
   "cell_type": "code",
   "execution_count": 22,
   "id": "66c85365",
   "metadata": {},
   "outputs": [
    {
     "data": {
      "text/plain": [
       "'this is my first python programming class and i am learning python string and its function'"
      ]
     },
     "execution_count": 22,
     "metadata": {},
     "output_type": "execute_result"
    }
   ],
   "source": [
    "s.lower()"
   ]
  },
  {
   "cell_type": "markdown",
   "id": "36bdea89",
   "metadata": {},
   "source": [
    "Ques 5: Try to capitalize the whole string"
   ]
  },
  {
   "cell_type": "code",
   "execution_count": 6,
   "id": "8e5915eb",
   "metadata": {},
   "outputs": [
    {
     "data": {
      "text/plain": [
       "'This is my first python programming class and i am learning python string and its function'"
      ]
     },
     "execution_count": 6,
     "metadata": {},
     "output_type": "execute_result"
    }
   ],
   "source": [
    "s.capitalize()"
   ]
  },
  {
   "cell_type": "markdown",
   "id": "f2e9902e",
   "metadata": {},
   "source": [
    "Ques 6: Write a diference between isalnum() and isalpha()"
   ]
  },
  {
   "cell_type": "markdown",
   "id": "b0d1456a",
   "metadata": {},
   "source": [
    "isalnum() is a is/or function which return if the string is alpahbet or numeric. \n",
    "isalpha() is a function which returns only if the string has alaphabets. "
   ]
  },
  {
   "cell_type": "code",
   "execution_count": 24,
   "id": "0bc5c4b6",
   "metadata": {},
   "outputs": [],
   "source": [
    "x = \"13dhu\""
   ]
  },
  {
   "cell_type": "code",
   "execution_count": 25,
   "id": "5d458737",
   "metadata": {},
   "outputs": [
    {
     "data": {
      "text/plain": [
       "True"
      ]
     },
     "execution_count": 25,
     "metadata": {},
     "output_type": "execute_result"
    }
   ],
   "source": [
    "x.isalnum()"
   ]
  },
  {
   "cell_type": "code",
   "execution_count": 26,
   "id": "0cb0f324",
   "metadata": {},
   "outputs": [
    {
     "data": {
      "text/plain": [
       "False"
      ]
     },
     "execution_count": 26,
     "metadata": {},
     "output_type": "execute_result"
    }
   ],
   "source": [
    "x.isalpha()"
   ]
  },
  {
   "cell_type": "markdown",
   "id": "a923c51d",
   "metadata": {},
   "source": [
    "Ques 7: Try to give an example of expand tab"
   ]
  },
  {
   "cell_type": "code",
   "execution_count": 29,
   "id": "e666b813",
   "metadata": {},
   "outputs": [],
   "source": [
    "q = \"medha\\tis\\tagreat\\tstudent\""
   ]
  },
  {
   "cell_type": "code",
   "execution_count": 30,
   "id": "ba6d720d",
   "metadata": {},
   "outputs": [
    {
     "data": {
      "text/plain": [
       "'medha   is      agreat  student'"
      ]
     },
     "execution_count": 30,
     "metadata": {},
     "output_type": "execute_result"
    }
   ],
   "source": [
    "q.expandtabs()"
   ]
  },
  {
   "cell_type": "markdown",
   "id": "70862de7",
   "metadata": {},
   "source": [
    "Ques 8: Give an example of strip , lstrip and rstrip "
   ]
  },
  {
   "cell_type": "code",
   "execution_count": 31,
   "id": "50b520c9",
   "metadata": {},
   "outputs": [],
   "source": [
    "f = \"    medha is a great scholar    \""
   ]
  },
  {
   "cell_type": "code",
   "execution_count": 32,
   "id": "39cb8f76",
   "metadata": {},
   "outputs": [
    {
     "data": {
      "text/plain": [
       "'medha is a great scholar'"
      ]
     },
     "execution_count": 32,
     "metadata": {},
     "output_type": "execute_result"
    }
   ],
   "source": [
    "f.strip()"
   ]
  },
  {
   "cell_type": "code",
   "execution_count": 33,
   "id": "90663225",
   "metadata": {},
   "outputs": [
    {
     "data": {
      "text/plain": [
       "'medha is a great scholar    '"
      ]
     },
     "execution_count": 33,
     "metadata": {},
     "output_type": "execute_result"
    }
   ],
   "source": [
    "f.lstrip()"
   ]
  },
  {
   "cell_type": "code",
   "execution_count": 34,
   "id": "2a562662",
   "metadata": {},
   "outputs": [
    {
     "data": {
      "text/plain": [
       "'    medha is a great scholar'"
      ]
     },
     "execution_count": 34,
     "metadata": {},
     "output_type": "execute_result"
    }
   ],
   "source": [
    "f.rstrip()"
   ]
  },
  {
   "cell_type": "markdown",
   "id": "b9d894e0",
   "metadata": {},
   "source": [
    "Ques 9: Replace a string charecter by another charector by taking your own example"
   ]
  },
  {
   "cell_type": "code",
   "execution_count": 35,
   "id": "9e234ee0",
   "metadata": {},
   "outputs": [],
   "source": [
    "w = \"AWESOME\""
   ]
  },
  {
   "cell_type": "code",
   "execution_count": 41,
   "id": "aa8151f2",
   "metadata": {},
   "outputs": [
    {
     "data": {
      "text/plain": [
       "'AW@SOM@'"
      ]
     },
     "execution_count": 41,
     "metadata": {},
     "output_type": "execute_result"
    }
   ],
   "source": [
    "w.replace(\"E\", \"@\")"
   ]
  },
  {
   "cell_type": "markdown",
   "id": "a41b8601",
   "metadata": {},
   "source": [
    "Ques 10: Try  to give a defination of string center function with an exmple"
   ]
  },
  {
   "cell_type": "code",
   "execution_count": 43,
   "id": "53a252c7",
   "metadata": {},
   "outputs": [
    {
     "data": {
      "text/plain": [
       "'    medha is a great scholar    '"
      ]
     },
     "execution_count": 43,
     "metadata": {},
     "output_type": "execute_result"
    }
   ],
   "source": [
    "f"
   ]
  },
  {
   "cell_type": "code",
   "execution_count": 42,
   "id": "4b2feffc",
   "metadata": {},
   "outputs": [
    {
     "data": {
      "text/plain": [
       "'@@@@@@@@@    medha is a great scholar    @@@@@@@@@'"
      ]
     },
     "execution_count": 42,
     "metadata": {},
     "output_type": "execute_result"
    }
   ],
   "source": [
    "f.center(50, \"@\")"
   ]
  },
  {
   "cell_type": "markdown",
   "id": "7404f1e0",
   "metadata": {},
   "source": [
    "string center function has 2 parameters; length(index) and fill character which dentoes by which value the length will be filled, default is space. "
   ]
  },
  {
   "cell_type": "markdown",
   "id": "de64749e",
   "metadata": {},
   "source": []
  },
  {
   "cell_type": "markdown",
   "id": "7cd84345",
   "metadata": {},
   "source": [
    "Ques 11: Write your own definition of compiler and interpretor without copy paste form internet in your own language"
   ]
  },
  {
   "cell_type": "markdown",
   "id": "5bb5c096",
   "metadata": {},
   "source": [
    "compiler and interpretor are programs which converts human lanaguage (english) to a language \n",
    "undestandbel by machine (machine code). \n",
    "\n",
    "Interpretor converts the program line by line, and stops working as soon as error occur, making it easy to fix error. \n",
    "\n",
    "Compiler scans and converts entire program into machine code at the same time. and shoes error \n",
    "only after entire program is converted thus hard to debug. \n"
   ]
  },
  {
   "cell_type": "markdown",
   "id": "453e9543",
   "metadata": {},
   "source": [
    "Ques 12: Python is interpreted or compiled language give a clear ans with your understanding"
   ]
  },
  {
   "cell_type": "code",
   "execution_count": 8,
   "id": "88ed98bf",
   "metadata": {},
   "outputs": [],
   "source": [
    "#Sir Answer: Python is compiled as well as interpreted language.\n",
    "#first it compiles and then it interpret .pyc file. "
   ]
  },
  {
   "cell_type": "markdown",
   "id": "0ae60e8e",
   "metadata": {},
   "source": [
    "Ques 13: Try to write a usecase of python with your understanding ."
   ]
  },
  {
   "cell_type": "markdown",
   "id": "30c2dfef",
   "metadata": {},
   "source": [
    "Python is used for AI systems such as Siri, it can be used to clean data, ETL"
   ]
  },
  {
   "cell_type": "code",
   "execution_count": null,
   "id": "498fa1e1",
   "metadata": {},
   "outputs": [],
   "source": []
  }
 ],
 "metadata": {
  "kernelspec": {
   "display_name": "Python 3 (ipykernel)",
   "language": "python",
   "name": "python3"
  },
  "language_info": {
   "codemirror_mode": {
    "name": "ipython",
    "version": 3
   },
   "file_extension": ".py",
   "mimetype": "text/x-python",
   "name": "python",
   "nbconvert_exporter": "python",
   "pygments_lexer": "ipython3",
   "version": "3.9.12"
  }
 },
 "nbformat": 4,
 "nbformat_minor": 5
}

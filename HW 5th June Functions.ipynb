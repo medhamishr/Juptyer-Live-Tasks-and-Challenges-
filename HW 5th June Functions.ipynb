{
 "cells": [
  {
   "cell_type": "raw",
   "id": "42b01286",
   "metadata": {},
   "source": [
    "q1 : Try to print a prime number in between 1 to 1000"
   ]
  },
  {
   "cell_type": "code",
   "execution_count": 9,
   "id": "d7d88174",
   "metadata": {},
   "outputs": [],
   "source": [
    "def prime(n, m):\n",
    "    for i in range(1,1001):\n",
    "        if i >1:\n",
    "            for j in range(2,i):\n",
    "                if i%j == 0:\n",
    "                    break\n",
    "            else:\n",
    "                print(i)"
   ]
  },
  {
   "cell_type": "code",
   "execution_count": 10,
   "id": "9d6b241a",
   "metadata": {},
   "outputs": [
    {
     "name": "stdout",
     "output_type": "stream",
     "text": [
      "2\n",
      "3\n",
      "5\n",
      "7\n",
      "11\n",
      "13\n",
      "17\n",
      "19\n",
      "23\n",
      "29\n",
      "31\n",
      "37\n",
      "41\n",
      "43\n",
      "47\n",
      "53\n",
      "59\n",
      "61\n",
      "67\n",
      "71\n",
      "73\n",
      "79\n",
      "83\n",
      "89\n",
      "97\n",
      "101\n",
      "103\n",
      "107\n",
      "109\n",
      "113\n",
      "127\n",
      "131\n",
      "137\n",
      "139\n",
      "149\n",
      "151\n",
      "157\n",
      "163\n",
      "167\n",
      "173\n",
      "179\n",
      "181\n",
      "191\n",
      "193\n",
      "197\n",
      "199\n",
      "211\n",
      "223\n",
      "227\n",
      "229\n",
      "233\n",
      "239\n",
      "241\n",
      "251\n",
      "257\n",
      "263\n",
      "269\n",
      "271\n",
      "277\n",
      "281\n",
      "283\n",
      "293\n",
      "307\n",
      "311\n",
      "313\n",
      "317\n",
      "331\n",
      "337\n",
      "347\n",
      "349\n",
      "353\n",
      "359\n",
      "367\n",
      "373\n",
      "379\n",
      "383\n",
      "389\n",
      "397\n",
      "401\n",
      "409\n",
      "419\n",
      "421\n",
      "431\n",
      "433\n",
      "439\n",
      "443\n",
      "449\n",
      "457\n",
      "461\n",
      "463\n",
      "467\n",
      "479\n",
      "487\n",
      "491\n",
      "499\n",
      "503\n",
      "509\n",
      "521\n",
      "523\n",
      "541\n",
      "547\n",
      "557\n",
      "563\n",
      "569\n",
      "571\n",
      "577\n",
      "587\n",
      "593\n",
      "599\n",
      "601\n",
      "607\n",
      "613\n",
      "617\n",
      "619\n",
      "631\n",
      "641\n",
      "643\n",
      "647\n",
      "653\n",
      "659\n",
      "661\n",
      "673\n",
      "677\n",
      "683\n",
      "691\n",
      "701\n",
      "709\n",
      "719\n",
      "727\n",
      "733\n",
      "739\n",
      "743\n",
      "751\n",
      "757\n",
      "761\n",
      "769\n",
      "773\n",
      "787\n",
      "797\n",
      "809\n",
      "811\n",
      "821\n",
      "823\n",
      "827\n",
      "829\n",
      "839\n",
      "853\n",
      "857\n",
      "859\n",
      "863\n",
      "877\n",
      "881\n",
      "883\n",
      "887\n",
      "907\n",
      "911\n",
      "919\n",
      "929\n",
      "937\n",
      "941\n",
      "947\n",
      "953\n",
      "967\n",
      "971\n",
      "977\n",
      "983\n",
      "991\n",
      "997\n"
     ]
    }
   ],
   "source": [
    "prime(1,10001)"
   ]
  },
  {
   "cell_type": "raw",
   "id": "35dc3427",
   "metadata": {},
   "source": [
    "q2 : Try to write a function which  is equivalent  to print function in python"
   ]
  },
  {
   "cell_type": "code",
   "execution_count": 16,
   "id": "17f9127c",
   "metadata": {},
   "outputs": [],
   "source": [
    "def prnt(*n):\n",
    "    return (n)"
   ]
  },
  {
   "cell_type": "code",
   "execution_count": 17,
   "id": "6269c8cb",
   "metadata": {},
   "outputs": [
    {
     "data": {
      "text/plain": [
       "('ifhi5erhbnfierhbfirhf', 2345)"
      ]
     },
     "execution_count": 17,
     "metadata": {},
     "output_type": "execute_result"
    }
   ],
   "source": [
    "prnt(\"ifhi5erhbnfierhbfirhf\", 2345)"
   ]
  },
  {
   "cell_type": "raw",
   "id": "7616062c",
   "metadata": {},
   "source": [
    "q3 : Try to write a function which is a replica of list append , extend and pop function "
   ]
  },
  {
   "cell_type": "code",
   "execution_count": 34,
   "id": "36a45982",
   "metadata": {},
   "outputs": [
    {
     "data": {
      "text/plain": [
       "[23, 455, 6, 567, 'medha', 1223, 'm', 'i', 's', 'h', 'r']"
      ]
     },
     "execution_count": 34,
     "metadata": {},
     "output_type": "execute_result"
    }
   ],
   "source": [
    "m"
   ]
  },
  {
   "cell_type": "code",
   "execution_count": null,
   "id": "c29e1d98",
   "metadata": {},
   "outputs": [],
   "source": []
  },
  {
   "cell_type": "raw",
   "id": "2432e28b",
   "metadata": {},
   "source": [
    "q4 : Try to write a lambda function which can return a concatination of all the string that we will pass"
   ]
  },
  {
   "cell_type": "code",
   "execution_count": 60,
   "id": "2c18b534",
   "metadata": {},
   "outputs": [],
   "source": [
    "c = lambda a,*b: str(a+b)"
   ]
  },
  {
   "cell_type": "code",
   "execution_count": 63,
   "id": "75ccfeee",
   "metadata": {},
   "outputs": [
    {
     "ename": "TypeError",
     "evalue": "can only concatenate str (not \"tuple\") to str",
     "output_type": "error",
     "traceback": [
      "\u001b[0;31m---------------------------------------------------------------------------\u001b[0m",
      "\u001b[0;31mTypeError\u001b[0m                                 Traceback (most recent call last)",
      "Input \u001b[0;32mIn [63]\u001b[0m, in \u001b[0;36m<cell line: 1>\u001b[0;34m()\u001b[0m\n\u001b[0;32m----> 1\u001b[0m \u001b[38;5;28mstr\u001b[39m(\u001b[43mc\u001b[49m\u001b[43m(\u001b[49m\u001b[38;5;124;43m\"\u001b[39;49m\u001b[38;5;124;43mmedha\u001b[39;49m\u001b[38;5;124;43m\"\u001b[39;49m\u001b[43m \u001b[49m\u001b[38;5;124;43m\"\u001b[39;49m\u001b[38;5;124;43mmishra\u001b[39;49m\u001b[38;5;124;43m\"\u001b[39;49m\u001b[43m)\u001b[49m)\n",
      "Input \u001b[0;32mIn [60]\u001b[0m, in \u001b[0;36m<lambda>\u001b[0;34m(a, *b)\u001b[0m\n\u001b[0;32m----> 1\u001b[0m c \u001b[38;5;241m=\u001b[39m \u001b[38;5;28;01mlambda\u001b[39;00m a,\u001b[38;5;241m*\u001b[39mb: \u001b[38;5;28mstr\u001b[39m(\u001b[43ma\u001b[49m\u001b[38;5;241;43m+\u001b[39;49m\u001b[43mb\u001b[49m)\n",
      "\u001b[0;31mTypeError\u001b[0m: can only concatenate str (not \"tuple\") to str"
     ]
    }
   ],
   "source": [
    "str(c(\"medha\" \"mishra\"))"
   ]
  },
  {
   "cell_type": "code",
   "execution_count": null,
   "id": "8d7cf559",
   "metadata": {},
   "outputs": [],
   "source": []
  },
  {
   "cell_type": "code",
   "execution_count": null,
   "id": "d2d5373c",
   "metadata": {},
   "outputs": [],
   "source": []
  },
  {
   "cell_type": "raw",
   "id": "b28e3590",
   "metadata": {},
   "source": [
    "q5 : Try to write a lambda function which can return list of square of all the data between 1-100 "
   ]
  },
  {
   "cell_type": "code",
   "execution_count": 67,
   "id": "6d543052",
   "metadata": {},
   "outputs": [],
   "source": [
    "w = lambda : [i**2 for i in range(1,100)]"
   ]
  },
  {
   "cell_type": "code",
   "execution_count": 68,
   "id": "6b3d51f7",
   "metadata": {},
   "outputs": [
    {
     "data": {
      "text/plain": [
       "[1,\n",
       " 4,\n",
       " 9,\n",
       " 16,\n",
       " 25,\n",
       " 36,\n",
       " 49,\n",
       " 64,\n",
       " 81,\n",
       " 100,\n",
       " 121,\n",
       " 144,\n",
       " 169,\n",
       " 196,\n",
       " 225,\n",
       " 256,\n",
       " 289,\n",
       " 324,\n",
       " 361,\n",
       " 400,\n",
       " 441,\n",
       " 484,\n",
       " 529,\n",
       " 576,\n",
       " 625,\n",
       " 676,\n",
       " 729,\n",
       " 784,\n",
       " 841,\n",
       " 900,\n",
       " 961,\n",
       " 1024,\n",
       " 1089,\n",
       " 1156,\n",
       " 1225,\n",
       " 1296,\n",
       " 1369,\n",
       " 1444,\n",
       " 1521,\n",
       " 1600,\n",
       " 1681,\n",
       " 1764,\n",
       " 1849,\n",
       " 1936,\n",
       " 2025,\n",
       " 2116,\n",
       " 2209,\n",
       " 2304,\n",
       " 2401,\n",
       " 2500,\n",
       " 2601,\n",
       " 2704,\n",
       " 2809,\n",
       " 2916,\n",
       " 3025,\n",
       " 3136,\n",
       " 3249,\n",
       " 3364,\n",
       " 3481,\n",
       " 3600,\n",
       " 3721,\n",
       " 3844,\n",
       " 3969,\n",
       " 4096,\n",
       " 4225,\n",
       " 4356,\n",
       " 4489,\n",
       " 4624,\n",
       " 4761,\n",
       " 4900,\n",
       " 5041,\n",
       " 5184,\n",
       " 5329,\n",
       " 5476,\n",
       " 5625,\n",
       " 5776,\n",
       " 5929,\n",
       " 6084,\n",
       " 6241,\n",
       " 6400,\n",
       " 6561,\n",
       " 6724,\n",
       " 6889,\n",
       " 7056,\n",
       " 7225,\n",
       " 7396,\n",
       " 7569,\n",
       " 7744,\n",
       " 7921,\n",
       " 8100,\n",
       " 8281,\n",
       " 8464,\n",
       " 8649,\n",
       " 8836,\n",
       " 9025,\n",
       " 9216,\n",
       " 9409,\n",
       " 9604,\n",
       " 9801]"
      ]
     },
     "execution_count": 68,
     "metadata": {},
     "output_type": "execute_result"
    }
   ],
   "source": [
    "w()"
   ]
  },
  {
   "cell_type": "raw",
   "id": "fe41f56a",
   "metadata": {},
   "source": [
    "q6 : Try to write a 10 Different different example of lambda function with a choice of your taks"
   ]
  },
  {
   "cell_type": "code",
   "execution_count": 72,
   "id": "61b3b533",
   "metadata": {},
   "outputs": [
    {
     "data": {
      "text/plain": [
       "6"
      ]
     },
     "execution_count": 72,
     "metadata": {},
     "output_type": "execute_result"
    }
   ],
   "source": [
    "z= lambda a,b: a+b\n",
    "z(2,4)"
   ]
  },
  {
   "cell_type": "code",
   "execution_count": 74,
   "id": "57266ce6",
   "metadata": {},
   "outputs": [
    {
     "data": {
      "text/plain": [
       "3"
      ]
     },
     "execution_count": 74,
     "metadata": {},
     "output_type": "execute_result"
    }
   ],
   "source": [
    "x = lambda c,d : c-d\n",
    "x(6,3)"
   ]
  },
  {
   "cell_type": "code",
   "execution_count": 75,
   "id": "3ff99655",
   "metadata": {},
   "outputs": [
    {
     "data": {
      "text/plain": [
       "0"
      ]
     },
     "execution_count": 75,
     "metadata": {},
     "output_type": "execute_result"
    }
   ],
   "source": [
    "q = lambda e,f : e%f\n",
    "q(9,3)"
   ]
  },
  {
   "cell_type": "code",
   "execution_count": 76,
   "id": "eb441d16",
   "metadata": {},
   "outputs": [
    {
     "data": {
      "text/plain": [
       "5226"
      ]
     },
     "execution_count": 76,
     "metadata": {},
     "output_type": "execute_result"
    }
   ],
   "source": [
    "r= lambda y,u: y*u\n",
    "r(78,67)"
   ]
  },
  {
   "cell_type": "code",
   "execution_count": 78,
   "id": "d371e6f1",
   "metadata": {},
   "outputs": [
    {
     "data": {
      "text/plain": [
       "346"
      ]
     },
     "execution_count": 78,
     "metadata": {},
     "output_type": "execute_result"
    }
   ],
   "source": [
    "q= lambda x: x+1\n",
    "q(345)"
   ]
  },
  {
   "cell_type": "code",
   "execution_count": 80,
   "id": "279f2e61",
   "metadata": {},
   "outputs": [
    {
     "data": {
      "text/plain": [
       "100"
      ]
     },
     "execution_count": 80,
     "metadata": {},
     "output_type": "execute_result"
    }
   ],
   "source": [
    "o= lambda r: r*10\n",
    "o(10)"
   ]
  },
  {
   "cell_type": "code",
   "execution_count": 91,
   "id": "8dfc8887",
   "metadata": {},
   "outputs": [
    {
     "data": {
      "text/plain": [
       "[1, 8, 27, 64, 125, 216, 343, 512, 729, 1000]"
      ]
     },
     "execution_count": 91,
     "metadata": {},
     "output_type": "execute_result"
    }
   ],
   "source": [
    "w= lambda: [i**3 for i in range(1,11)]\n",
    "w()"
   ]
  },
  {
   "cell_type": "code",
   "execution_count": 105,
   "id": "c3133a6a",
   "metadata": {},
   "outputs": [
    {
     "name": "stdout",
     "output_type": "stream",
     "text": [
      "[1, 1, 2, 3, 5, 8, 13, 21, 34]\n"
     ]
    }
   ],
   "source": [
    "a=1\n",
    "b=1\n",
    "l=[]\n",
    "for i in range(1,10):\n",
    "    l.append(a)\n",
    "    a,b=b, a+b\n",
    "print(l)"
   ]
  },
  {
   "cell_type": "code",
   "execution_count": null,
   "id": "35239f47",
   "metadata": {},
   "outputs": [],
   "source": [
    "j= lambda "
   ]
  },
  {
   "cell_type": "raw",
   "id": "a9d7524c",
   "metadata": {},
   "source": [
    "q7 : Try to wwrite a funtion whihc can perform a read operation from .txt file "
   ]
  },
  {
   "cell_type": "code",
   "execution_count": 121,
   "id": "76b720a9",
   "metadata": {},
   "outputs": [],
   "source": [
    "m= open(\"medha.txt\", \"w\")\n"
   ]
  },
  {
   "cell_type": "code",
   "execution_count": 122,
   "id": "0cd2dfc1",
   "metadata": {},
   "outputs": [
    {
     "data": {
      "text/plain": [
       "19"
      ]
     },
     "execution_count": 122,
     "metadata": {},
     "output_type": "execute_result"
    }
   ],
   "source": [
    "m.write(\"heloo moto hows you\")"
   ]
  },
  {
   "cell_type": "code",
   "execution_count": 125,
   "id": "6ebe1f8e",
   "metadata": {},
   "outputs": [],
   "source": [
    "m.close()"
   ]
  },
  {
   "cell_type": "code",
   "execution_count": 127,
   "id": "7513e736",
   "metadata": {},
   "outputs": [],
   "source": [
    "f= open(\"medha.txt\", \"r\")"
   ]
  },
  {
   "cell_type": "code",
   "execution_count": 128,
   "id": "4a4d7ec6",
   "metadata": {},
   "outputs": [
    {
     "data": {
      "text/plain": [
       "'heloo moto hows you'"
      ]
     },
     "execution_count": 128,
     "metadata": {},
     "output_type": "execute_result"
    }
   ],
   "source": [
    "f.read()"
   ]
  },
  {
   "cell_type": "code",
   "execution_count": null,
   "id": "546494c0",
   "metadata": {},
   "outputs": [],
   "source": []
  }
 ],
 "metadata": {
  "kernelspec": {
   "display_name": "Python 3 (ipykernel)",
   "language": "python",
   "name": "python3"
  },
  "language_info": {
   "codemirror_mode": {
    "name": "ipython",
    "version": 3
   },
   "file_extension": ".py",
   "mimetype": "text/x-python",
   "name": "python",
   "nbconvert_exporter": "python",
   "pygments_lexer": "ipython3",
   "version": "3.9.12"
  }
 },
 "nbformat": 4,
 "nbformat_minor": 5
}

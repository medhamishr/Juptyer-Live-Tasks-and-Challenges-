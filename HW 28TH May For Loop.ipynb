{
 "cells": [
  {
   "cell_type": "code",
   "execution_count": null,
   "id": "1939d4d6",
   "metadata": {},
   "outputs": [],
   "source": [
    "q1 :\n",
    "ineruon \n",
    "ineruon ineruon \n",
    "ineruon ineruon ineruon\n",
    "ineruon ineruon ineruon ineruon"
   ]
  },
  {
   "cell_type": "code",
   "execution_count": 1,
   "id": "1fa4710b",
   "metadata": {},
   "outputs": [
    {
     "name": "stdout",
     "output_type": "stream",
     "text": [
      "ineuron \n",
      "ineuron ineuron \n",
      "ineuron ineuron ineuron \n",
      "ineuron ineuron ineuron ineuron \n"
     ]
    }
   ],
   "source": [
    "for i in range(4):\n",
    "    print(\"ineuron \"* (i+1))\n",
    "    "
   ]
  },
  {
   "cell_type": "code",
   "execution_count": null,
   "id": "99d063ee",
   "metadata": {},
   "outputs": [],
   "source": [
    "q2 - \n",
    "\n",
    "          ineruon\n",
    "    ineruon      ineruon\n",
    "ineruon\t\tineruon \tineruon\n",
    "\tineruon\t\t ineruon\n",
    "\t\t  ineruon"
   ]
  },
  {
   "cell_type": "code",
   "execution_count": 4,
   "id": "113f6255",
   "metadata": {},
   "outputs": [
    {
     "name": "stdout",
     "output_type": "stream",
     "text": [
      "                    \n",
      "      ineuron       \n",
      "  ineuron ineuron   \n",
      "ineuron ineuron ineuron \n",
      "  ineuron ineuron   \n",
      "      ineuron       \n"
     ]
    }
   ],
   "source": [
    "for i in range(6):\n",
    "    if i <=3 :\n",
    "        n=i\n",
    "    else:\n",
    "        n=6-i\n",
    "    print((\"ineuron \" * n).center(20,\" \"))"
   ]
  },
  {
   "cell_type": "markdown",
   "id": "01ddcf9e",
   "metadata": {},
   "source": [
    "Ques 3 : Try to extract all the list entity¶"
   ]
  },
  {
   "cell_type": "code",
   "execution_count": 6,
   "id": "6030a610",
   "metadata": {},
   "outputs": [],
   "source": [
    "l = [[1,2,3,4] , (2,3,4,5,6) , (3,4,5,6,7) , set([23,4,5,45,4,4,5,45,45,4,5]) , {'k1' :\"sudh\" , \"k2\" : \"ineuron\",\"k3\":\n",
    "            \"kumar\" , 3:6 , 7:8} , [\"ineuron\" , \"data science \"]]\n"
   ]
  },
  {
   "cell_type": "code",
   "execution_count": 4,
   "id": "6237acc3",
   "metadata": {},
   "outputs": [
    {
     "name": "stdout",
     "output_type": "stream",
     "text": [
      "[1, 2, 3, 4]\n",
      "['ineuron', 'data science ']\n"
     ]
    }
   ],
   "source": [
    "for i in l:\n",
    "    if type(i) == list:\n",
    "        print (i)"
   ]
  },
  {
   "cell_type": "markdown",
   "id": "7a11e6fb",
   "metadata": {},
   "source": [
    "q4 : Try to extract all the dict enteties"
   ]
  },
  {
   "cell_type": "code",
   "execution_count": 5,
   "id": "f685dee0",
   "metadata": {},
   "outputs": [
    {
     "name": "stdout",
     "output_type": "stream",
     "text": [
      "{'k1': 'sudh', 'k2': 'ineuron', 'k3': 'kumar', 3: 6, 7: 8}\n"
     ]
    }
   ],
   "source": [
    "for i in l:\n",
    "    if type(i) == dict:\n",
    "        print(i)"
   ]
  },
  {
   "cell_type": "markdown",
   "id": "7fcb45a6",
   "metadata": {},
   "source": [
    "q5 : Try to extract all the tuples entities"
   ]
  },
  {
   "cell_type": "code",
   "execution_count": 6,
   "id": "8c4e6fb2",
   "metadata": {},
   "outputs": [
    {
     "name": "stdout",
     "output_type": "stream",
     "text": [
      "(2, 3, 4, 5, 6)\n",
      "(3, 4, 5, 6, 7)\n"
     ]
    }
   ],
   "source": [
    "for i in l:\n",
    "    if type(i) == tuple:\n",
    "        print (i)"
   ]
  },
  {
   "cell_type": "markdown",
   "id": "0dd4fe53",
   "metadata": {},
   "source": [
    "Q6 : Try to extract all the numerical data it may b a part of dict key and values"
   ]
  },
  {
   "cell_type": "code",
   "execution_count": 8,
   "id": "023df479",
   "metadata": {},
   "outputs": [
    {
     "data": {
      "text/plain": [
       "[1, 2, 3, 4, 2, 3, 4, 5, 6, 3, 4, 5, 6, 7, 45, 4, 5, 23, 3, 6, 7, 8]"
      ]
     },
     "execution_count": 8,
     "metadata": {},
     "output_type": "execute_result"
    }
   ],
   "source": [
    "g=[]\n",
    "for i in l:\n",
    "    if type(i)== list or type(i) == set or type(i) == tuple :\n",
    "        for j in i:\n",
    "            if type(j)== int :\n",
    "                g.append(j)\n",
    "    if type(i) == dict:\n",
    "        for k,v in i.items():\n",
    "            if type(k)== int or type(v) == int:\n",
    "                g.append(k)\n",
    "                g.append(v)\n",
    "g"
   ]
  },
  {
   "cell_type": "markdown",
   "id": "b5c9ecc1",
   "metadata": {},
   "source": [
    "q7 : Try to give summation of all the numeric data "
   ]
  },
  {
   "cell_type": "code",
   "execution_count": 11,
   "id": "6b10baa3",
   "metadata": {},
   "outputs": [
    {
     "name": "stdout",
     "output_type": "stream",
     "text": [
      "156\n"
     ]
    }
   ],
   "source": [
    "a=[]\n",
    "for i in l:\n",
    "    if type(i)== list or type(i) == set or type(i) == tuple :\n",
    "        for j in i:\n",
    "            if type(j)== int :\n",
    "                a.append(j)\n",
    "    if type(i) == dict:\n",
    "        for k,v in i.items():\n",
    "            if type(k)== int or type(v) == int:\n",
    "                a.append(k)\n",
    "                a.append(v)\n",
    "        print(sum(a))"
   ]
  },
  {
   "cell_type": "markdown",
   "id": "30dcae16",
   "metadata": {},
   "source": [
    "q8 : Try to filter out all the odd values out all numeric data which is a part of a list "
   ]
  },
  {
   "cell_type": "code",
   "execution_count": 12,
   "id": "8b5c16c2",
   "metadata": {},
   "outputs": [
    {
     "data": {
      "text/plain": [
       "[1, 2, 3, 4, 2, 3, 4, 5, 6, 3, 4, 5, 6, 7, 45, 4, 5, 23, 3, 6, 7, 8]"
      ]
     },
     "execution_count": 12,
     "metadata": {},
     "output_type": "execute_result"
    }
   ],
   "source": [
    "a"
   ]
  },
  {
   "cell_type": "code",
   "execution_count": 13,
   "id": "6175330f",
   "metadata": {},
   "outputs": [
    {
     "name": "stdout",
     "output_type": "stream",
     "text": [
      "[1, 3, 3, 5, 3, 5, 7, 45, 5, 23, 3, 7]\n"
     ]
    }
   ],
   "source": [
    "b=[]\n",
    "for i in a:\n",
    "    if i % 2 !=0:\n",
    "        b.append(i)\n",
    "print(b)"
   ]
  },
  {
   "cell_type": "markdown",
   "id": "1cc6276a",
   "metadata": {},
   "source": [
    "q9 : Try to extract \"ineruon\" out of this data"
   ]
  },
  {
   "cell_type": "code",
   "execution_count": 17,
   "id": "9777eaf7",
   "metadata": {},
   "outputs": [
    {
     "data": {
      "text/plain": [
       "[[1, 2, 3, 4],\n",
       " (2, 3, 4, 5, 6),\n",
       " (3, 4, 5, 6, 7),\n",
       " {4, 5, 23, 45},\n",
       " {'k1': 'sudh', 'k2': 'ineuron', 'k3': 'kumar', 3: 6, 7: 8},\n",
       " ['ineuron', 'data science ']]"
      ]
     },
     "execution_count": 17,
     "metadata": {},
     "output_type": "execute_result"
    }
   ],
   "source": [
    "l"
   ]
  },
  {
   "cell_type": "code",
   "execution_count": 23,
   "id": "4998eb6d",
   "metadata": {},
   "outputs": [
    {
     "name": "stdout",
     "output_type": "stream",
     "text": [
      "ineuron\n",
      "ineuron\n"
     ]
    }
   ],
   "source": [
    "for i in l:\n",
    "    if type(i) == list:\n",
    "        for j in i:\n",
    "            if j ==\"ineuron\":\n",
    "                print(j)\n",
    "    if type(i) == dict:\n",
    "        for v in i.values():\n",
    "            if v== \"ineuron\" :\n",
    "                print (v)"
   ]
  },
  {
   "cell_type": "markdown",
   "id": "7b378845",
   "metadata": {},
   "source": [
    "q10 :Try to find out a number of occurances of all the data "
   ]
  },
  {
   "cell_type": "code",
   "execution_count": 15,
   "id": "38b737b2",
   "metadata": {},
   "outputs": [],
   "source": [
    "m= str(l)"
   ]
  },
  {
   "cell_type": "code",
   "execution_count": 16,
   "id": "f732ccb5",
   "metadata": {},
   "outputs": [
    {
     "name": "stdout",
     "output_type": "stream",
     "text": [
      "  : 31\n",
      "( : 2\n",
      "a : 3\n",
      "[ : 3\n",
      "3 : 6\n",
      "] : 3\n",
      "o : 2\n",
      "6 : 3\n",
      "m : 1\n",
      "7 : 2\n",
      "d : 2\n",
      "} : 2\n",
      ") : 2\n",
      "r : 3\n",
      "c : 2\n",
      "i : 3\n",
      "s : 2\n",
      "8 : 1\n",
      "t : 1\n",
      "1 : 2\n",
      ": : 5\n",
      "n : 5\n",
      "{ : 2\n",
      "4 : 5\n",
      "u : 4\n",
      "2 : 4\n",
      ", : 24\n",
      "e : 4\n",
      "h : 1\n",
      "k : 4\n",
      "5 : 4\n",
      "' : 16\n"
     ]
    }
   ],
   "source": [
    "for i in set(m):\n",
    "    print(i, \":\", m.count(i))"
   ]
  },
  {
   "cell_type": "code",
   "execution_count": 29,
   "id": "200273e1",
   "metadata": {},
   "outputs": [
    {
     "data": {
      "text/plain": [
       "[[1, 2, 3, 4],\n",
       " (2, 3, 4, 5, 6),\n",
       " (3, 4, 5, 6, 7),\n",
       " {4, 5, 23, 45},\n",
       " {'k1': 'sudh', 'k2': 'ineuron', 'k3': 'kumar', 3: 6, 7: 8},\n",
       " ['ineuron', 'data science ']]"
      ]
     },
     "execution_count": 29,
     "metadata": {},
     "output_type": "execute_result"
    }
   ],
   "source": [
    "l"
   ]
  },
  {
   "cell_type": "markdown",
   "id": "2f7ab56d",
   "metadata": {},
   "source": [
    "q11 : Try to find out number of keys in dict element"
   ]
  },
  {
   "cell_type": "code",
   "execution_count": 42,
   "id": "c4ae6cc1",
   "metadata": {},
   "outputs": [
    {
     "name": "stdout",
     "output_type": "stream",
     "text": [
      "dict_keys(['k1', 'k2', 'k3', 3, 7]) Number of keys: 5\n"
     ]
    }
   ],
   "source": [
    "for i in l:\n",
    "    if type(i) == dict:\n",
    "        print(i.keys(),\"Number of keys:\", len(i.keys()))\n",
    "            "
   ]
  },
  {
   "cell_type": "code",
   "execution_count": 17,
   "id": "1de44ff3",
   "metadata": {},
   "outputs": [
    {
     "name": "stdout",
     "output_type": "stream",
     "text": [
      "5\n"
     ]
    }
   ],
   "source": [
    "for i in l:\n",
    "    if type(i) == dict:\n",
    "        print(len(i))"
   ]
  },
  {
   "cell_type": "markdown",
   "id": "d0d72e53",
   "metadata": {},
   "source": [
    "q12 : Try to filter out all the string data "
   ]
  },
  {
   "cell_type": "code",
   "execution_count": 20,
   "id": "82310494",
   "metadata": {},
   "outputs": [
    {
     "name": "stdout",
     "output_type": "stream",
     "text": [
      "['k1', 'sudh', 'k2', 'ineuron', 'k3', 'kumar', 'ineuron', 'data science ']\n"
     ]
    }
   ],
   "source": [
    "l3=[]\n",
    "for i in l:\n",
    "    if type(i)== list :\n",
    "        for j in i:\n",
    "            if type(j)== str :\n",
    "                l3.append(j)\n",
    "            \n",
    "    if type(i) == dict:\n",
    "        for k,v in i.items():\n",
    "            if type(k)== str or type(v) == str:\n",
    "                l3.append(k)\n",
    "                l3.append(v)\n",
    "print(l3)"
   ]
  },
  {
   "cell_type": "markdown",
   "id": "e91976f0",
   "metadata": {},
   "source": [
    "q13 : Try to Find  out alphanum in data"
   ]
  },
  {
   "cell_type": "code",
   "execution_count": 21,
   "id": "8110d5f2",
   "metadata": {},
   "outputs": [
    {
     "name": "stdout",
     "output_type": "stream",
     "text": [
      "k1\n",
      "sudh\n",
      "k2\n",
      "ineuron\n",
      "k3\n",
      "kumar\n",
      "ineuron\n"
     ]
    }
   ],
   "source": [
    "for i in l3:\n",
    "    if type(i)== str:\n",
    "        if i.isalnum():\n",
    "            print(i)"
   ]
  },
  {
   "cell_type": "markdown",
   "id": "4d2e34b4",
   "metadata": {},
   "source": [
    "q14 : Try to find out multiplication of all numeric value in  the individual collection inside dataset "
   ]
  },
  {
   "cell_type": "code",
   "execution_count": 58,
   "id": "466612ae",
   "metadata": {},
   "outputs": [
    {
     "data": {
      "text/plain": [
       "[[1, 2, 3, 4],\n",
       " (2, 3, 4, 5, 6),\n",
       " (3, 4, 5, 6, 7),\n",
       " {4, 5, 23, 45},\n",
       " {'k1': 'sudh', 'k2': 'ineuron', 'k3': 'kumar', 3: 6, 7: 8},\n",
       " ['ineuron', 'data science ']]"
      ]
     },
     "execution_count": 58,
     "metadata": {},
     "output_type": "execute_result"
    }
   ],
   "source": [
    "l"
   ]
  },
  {
   "cell_type": "code",
   "execution_count": 80,
   "id": "0a03ae30",
   "metadata": {},
   "outputs": [
    {
     "name": "stdout",
     "output_type": "stream",
     "text": [
      "multiplication of list:- [1, 2, 3, 4] which is 24\n",
      "multiplication of tuple:- [2, 3, 4, 5, 6, 3, 4, 5, 6, 7] which is 1814400\n",
      "multiplication of set:- [45, 4, 5, 23] which is 20700\n",
      "multiplication of dict:- [3, 6, 7, 8] which is 1008\n"
     ]
    }
   ],
   "source": [
    "#--------------------------for list--------------------\n",
    "x=[]\n",
    "for i in l:\n",
    "    if type(i)==list:\n",
    "        for j in i:\n",
    "            if type(j)==int :\n",
    "                x.append(j)\n",
    "\n",
    "mul=1\n",
    "for i in x:\n",
    "    mul=mul*i\n",
    "print(\"multiplication of list:-\", x, \"which is\", mul)\n",
    "\n",
    "#--------------------------for tuple--------------------\n",
    "x=[]\n",
    "for i in l:\n",
    "    if type(i)==tuple:\n",
    "        for j in i:\n",
    "            if type(j)==int :\n",
    "                x.append(j)\n",
    "\n",
    "mul=1\n",
    "for i in x:\n",
    "    mul=mul*i\n",
    "print(\"multiplication of tuple:-\", x, \"which is\", mul)\n",
    "\n",
    "#----------------------------for set---------------------\n",
    "x=[]\n",
    "for i in l:\n",
    "    if type(i)==set:\n",
    "        for j in i:\n",
    "            if type(j)==int :\n",
    "                x.append(j)\n",
    "\n",
    "mul=1\n",
    "for i in x:\n",
    "    mul=mul*i\n",
    "print(\"multiplication of set:-\", x, \"which is\", mul)\n",
    "\n",
    "#----------------------------for dict---------------------\n",
    "x=[]\n",
    "for i in l:\n",
    "    if type(i)==dict:\n",
    "        for k,v in i.items():\n",
    "            if type(k)==int or type(v)== int:\n",
    "                x.append(k)\n",
    "                x.append(v)\n",
    "\n",
    "mul=1\n",
    "for i in x:\n",
    "    mul=mul*i\n",
    "print(\"multiplication of dict:-\", x, \"which is\", mul)\n",
    "\n"
   ]
  },
  {
   "cell_type": "markdown",
   "id": "9f84d2ef",
   "metadata": {},
   "source": [
    "q15 : Try to unwrape all the collection inside collection and create a flat list "
   ]
  },
  {
   "cell_type": "code",
   "execution_count": 84,
   "id": "65931619",
   "metadata": {},
   "outputs": [
    {
     "data": {
      "text/plain": [
       "['k1',\n",
       " 'sudh',\n",
       " 'k2',\n",
       " 'ineuron',\n",
       " 'k3',\n",
       " 'kumar',\n",
       " 3,\n",
       " 6,\n",
       " 7,\n",
       " 8,\n",
       " 1,\n",
       " 2,\n",
       " 3,\n",
       " 4,\n",
       " 2,\n",
       " 3,\n",
       " 4,\n",
       " 5,\n",
       " 6,\n",
       " 3,\n",
       " 4,\n",
       " 5,\n",
       " 6,\n",
       " 7,\n",
       " 45,\n",
       " 4,\n",
       " 5,\n",
       " 23,\n",
       " 'ineuron',\n",
       " 'data science ']"
      ]
     },
     "execution_count": 84,
     "metadata": {},
     "output_type": "execute_result"
    }
   ],
   "source": [
    "x=[]\n",
    "for i in l:\n",
    "    if type(i)==dict:\n",
    "        for k,v in i.items():\n",
    "                x.append(k)\n",
    "                x.append(v)\n",
    "for i in l:\n",
    "    if type(i)== list or type(i) == set or type(i) == tuple :\n",
    "        for j in i:\n",
    "            x.append(j)\n",
    "        \n",
    "x"
   ]
  },
  {
   "cell_type": "code",
   "execution_count": null,
   "id": "687a6eed",
   "metadata": {},
   "outputs": [],
   "source": []
  }
 ],
 "metadata": {
  "kernelspec": {
   "display_name": "Python 3 (ipykernel)",
   "language": "python",
   "name": "python3"
  },
  "language_info": {
   "codemirror_mode": {
    "name": "ipython",
    "version": 3
   },
   "file_extension": ".py",
   "mimetype": "text/x-python",
   "name": "python",
   "nbconvert_exporter": "python",
   "pygments_lexer": "ipython3",
   "version": "3.9.12"
  }
 },
 "nbformat": 4,
 "nbformat_minor": 5
}
